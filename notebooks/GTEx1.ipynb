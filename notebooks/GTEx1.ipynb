{
 "cells": [
  {
   "cell_type": "code",
   "execution_count": 1,
   "id": "166384cb",
   "metadata": {},
   "outputs": [],
   "source": [
    "import pandas as pd\n",
    "import torch\n",
    "import requests\n",
    "import gffutils\n",
    "import numpy as np\n",
    "import matplotlib.pyplot as plt\n",
    "import random\n",
    "\n",
    "import sys\n",
    "import importlib\n",
    "import os\n",
    "sys.path.append(\"../\")\n",
    "\n",
    "\n",
    "import src.normalization  \n",
    "importlib.reload(src.normalization)\n",
    "from src.normalization import size_factor_normalization\n",
    "\n",
    "from src.sizeFactor import size_factor_expressed\n",
    "from src.preprocessing import get_gene_length\n",
    "from src.thetaMethodOfMoments import robust_method_of_moments_theta\n",
    "\n",
    "\n",
    "import src.pca_init\n",
    "import src.autoencoder\n",
    "importlib.reload(src.autoencoder)\n",
    "importlib.reload(src.pca_init)\n",
    "from src.pca_init import pca_init\n",
    "from src.autoencoder import EncoderExpressed, DecoderExpressed, AutoencoderExpressed\n",
    "\n",
    "torch.set_num_threads(64)\n"
   ]
  },
  {
   "cell_type": "markdown",
   "id": "4f953828",
   "metadata": {},
   "source": [
    "Read the read count matrix (genes x samples) of whole blood tissue"
   ]
  },
  {
   "cell_type": "code",
   "execution_count": 2,
   "id": "1b4da0b5",
   "metadata": {},
   "outputs": [
    {
     "data": {
      "text/html": [
       "<div>\n",
       "<style scoped>\n",
       "    .dataframe tbody tr th:only-of-type {\n",
       "        vertical-align: middle;\n",
       "    }\n",
       "\n",
       "    .dataframe tbody tr th {\n",
       "        vertical-align: top;\n",
       "    }\n",
       "\n",
       "    .dataframe thead th {\n",
       "        text-align: right;\n",
       "    }\n",
       "</style>\n",
       "<table border=\"1\" class=\"dataframe\">\n",
       "  <thead>\n",
       "    <tr style=\"text-align: right;\">\n",
       "      <th></th>\n",
       "      <th>Name</th>\n",
       "      <th>Description</th>\n",
       "      <th>GTEX-111YS-0006-SM-5NQBE</th>\n",
       "      <th>GTEX-1122O-0005-SM-5O99J</th>\n",
       "      <th>GTEX-1128S-0005-SM-5P9HI</th>\n",
       "      <th>GTEX-113IC-0006-SM-5NQ9C</th>\n",
       "      <th>GTEX-113JC-0006-SM-5O997</th>\n",
       "      <th>GTEX-117XS-0005-SM-5PNU6</th>\n",
       "      <th>GTEX-117YW-0005-SM-5NQ8Z</th>\n",
       "      <th>GTEX-1192W-0005-SM-5NQBQ</th>\n",
       "      <th>...</th>\n",
       "      <th>GTEX-ZVE2-0006-SM-51MRW</th>\n",
       "      <th>GTEX-ZVP2-0005-SM-51MRK</th>\n",
       "      <th>GTEX-ZVT2-0005-SM-57WBW</th>\n",
       "      <th>GTEX-ZVT3-0006-SM-51MT9</th>\n",
       "      <th>GTEX-ZVT4-0006-SM-57WB8</th>\n",
       "      <th>GTEX-ZVTK-0006-SM-57WBK</th>\n",
       "      <th>GTEX-ZVZP-0006-SM-51MSW</th>\n",
       "      <th>GTEX-ZVZQ-0006-SM-51MR8</th>\n",
       "      <th>GTEX-ZXES-0005-SM-57WCB</th>\n",
       "      <th>GTEX-ZXG5-0005-SM-57WCN</th>\n",
       "    </tr>\n",
       "    <tr>\n",
       "      <th>id</th>\n",
       "      <th></th>\n",
       "      <th></th>\n",
       "      <th></th>\n",
       "      <th></th>\n",
       "      <th></th>\n",
       "      <th></th>\n",
       "      <th></th>\n",
       "      <th></th>\n",
       "      <th></th>\n",
       "      <th></th>\n",
       "      <th></th>\n",
       "      <th></th>\n",
       "      <th></th>\n",
       "      <th></th>\n",
       "      <th></th>\n",
       "      <th></th>\n",
       "      <th></th>\n",
       "      <th></th>\n",
       "      <th></th>\n",
       "      <th></th>\n",
       "      <th></th>\n",
       "    </tr>\n",
       "  </thead>\n",
       "  <tbody>\n",
       "    <tr>\n",
       "      <th>0</th>\n",
       "      <td>ENSG00000223972.5</td>\n",
       "      <td>DDX11L1</td>\n",
       "      <td>1</td>\n",
       "      <td>1</td>\n",
       "      <td>1</td>\n",
       "      <td>5</td>\n",
       "      <td>1</td>\n",
       "      <td>1</td>\n",
       "      <td>1</td>\n",
       "      <td>3</td>\n",
       "      <td>...</td>\n",
       "      <td>0</td>\n",
       "      <td>3</td>\n",
       "      <td>0</td>\n",
       "      <td>0</td>\n",
       "      <td>2</td>\n",
       "      <td>4</td>\n",
       "      <td>1</td>\n",
       "      <td>0</td>\n",
       "      <td>1</td>\n",
       "      <td>0</td>\n",
       "    </tr>\n",
       "    <tr>\n",
       "      <th>1</th>\n",
       "      <td>ENSG00000227232.5</td>\n",
       "      <td>WASH7P</td>\n",
       "      <td>55</td>\n",
       "      <td>70</td>\n",
       "      <td>168</td>\n",
       "      <td>240</td>\n",
       "      <td>47</td>\n",
       "      <td>95</td>\n",
       "      <td>130</td>\n",
       "      <td>71</td>\n",
       "      <td>...</td>\n",
       "      <td>39</td>\n",
       "      <td>146</td>\n",
       "      <td>73</td>\n",
       "      <td>49</td>\n",
       "      <td>101</td>\n",
       "      <td>78</td>\n",
       "      <td>109</td>\n",
       "      <td>171</td>\n",
       "      <td>99</td>\n",
       "      <td>194</td>\n",
       "    </tr>\n",
       "    <tr>\n",
       "      <th>2</th>\n",
       "      <td>ENSG00000278267.1</td>\n",
       "      <td>MIR6859-1</td>\n",
       "      <td>0</td>\n",
       "      <td>0</td>\n",
       "      <td>0</td>\n",
       "      <td>0</td>\n",
       "      <td>0</td>\n",
       "      <td>0</td>\n",
       "      <td>0</td>\n",
       "      <td>0</td>\n",
       "      <td>...</td>\n",
       "      <td>0</td>\n",
       "      <td>0</td>\n",
       "      <td>1</td>\n",
       "      <td>0</td>\n",
       "      <td>0</td>\n",
       "      <td>0</td>\n",
       "      <td>0</td>\n",
       "      <td>0</td>\n",
       "      <td>0</td>\n",
       "      <td>1</td>\n",
       "    </tr>\n",
       "    <tr>\n",
       "      <th>3</th>\n",
       "      <td>ENSG00000243485.5</td>\n",
       "      <td>MIR1302-2HG</td>\n",
       "      <td>0</td>\n",
       "      <td>0</td>\n",
       "      <td>0</td>\n",
       "      <td>0</td>\n",
       "      <td>0</td>\n",
       "      <td>0</td>\n",
       "      <td>0</td>\n",
       "      <td>1</td>\n",
       "      <td>...</td>\n",
       "      <td>0</td>\n",
       "      <td>0</td>\n",
       "      <td>0</td>\n",
       "      <td>0</td>\n",
       "      <td>2</td>\n",
       "      <td>2</td>\n",
       "      <td>0</td>\n",
       "      <td>0</td>\n",
       "      <td>0</td>\n",
       "      <td>0</td>\n",
       "    </tr>\n",
       "    <tr>\n",
       "      <th>4</th>\n",
       "      <td>ENSG00000237613.2</td>\n",
       "      <td>FAM138A</td>\n",
       "      <td>0</td>\n",
       "      <td>0</td>\n",
       "      <td>2</td>\n",
       "      <td>0</td>\n",
       "      <td>0</td>\n",
       "      <td>0</td>\n",
       "      <td>0</td>\n",
       "      <td>0</td>\n",
       "      <td>...</td>\n",
       "      <td>0</td>\n",
       "      <td>0</td>\n",
       "      <td>1</td>\n",
       "      <td>0</td>\n",
       "      <td>0</td>\n",
       "      <td>1</td>\n",
       "      <td>0</td>\n",
       "      <td>0</td>\n",
       "      <td>0</td>\n",
       "      <td>0</td>\n",
       "    </tr>\n",
       "    <tr>\n",
       "      <th>5</th>\n",
       "      <td>ENSG00000268020.3</td>\n",
       "      <td>OR4G4P</td>\n",
       "      <td>0</td>\n",
       "      <td>2</td>\n",
       "      <td>0</td>\n",
       "      <td>0</td>\n",
       "      <td>0</td>\n",
       "      <td>0</td>\n",
       "      <td>1</td>\n",
       "      <td>0</td>\n",
       "      <td>...</td>\n",
       "      <td>0</td>\n",
       "      <td>0</td>\n",
       "      <td>0</td>\n",
       "      <td>0</td>\n",
       "      <td>0</td>\n",
       "      <td>0</td>\n",
       "      <td>1</td>\n",
       "      <td>0</td>\n",
       "      <td>0</td>\n",
       "      <td>1</td>\n",
       "    </tr>\n",
       "    <tr>\n",
       "      <th>6</th>\n",
       "      <td>ENSG00000240361.1</td>\n",
       "      <td>OR4G11P</td>\n",
       "      <td>1</td>\n",
       "      <td>0</td>\n",
       "      <td>0</td>\n",
       "      <td>0</td>\n",
       "      <td>3</td>\n",
       "      <td>1</td>\n",
       "      <td>0</td>\n",
       "      <td>1</td>\n",
       "      <td>...</td>\n",
       "      <td>2</td>\n",
       "      <td>3</td>\n",
       "      <td>1</td>\n",
       "      <td>0</td>\n",
       "      <td>0</td>\n",
       "      <td>1</td>\n",
       "      <td>1</td>\n",
       "      <td>0</td>\n",
       "      <td>1</td>\n",
       "      <td>0</td>\n",
       "    </tr>\n",
       "    <tr>\n",
       "      <th>7</th>\n",
       "      <td>ENSG00000186092.4</td>\n",
       "      <td>OR4F5</td>\n",
       "      <td>0</td>\n",
       "      <td>1</td>\n",
       "      <td>0</td>\n",
       "      <td>0</td>\n",
       "      <td>0</td>\n",
       "      <td>0</td>\n",
       "      <td>0</td>\n",
       "      <td>0</td>\n",
       "      <td>...</td>\n",
       "      <td>1</td>\n",
       "      <td>2</td>\n",
       "      <td>1</td>\n",
       "      <td>0</td>\n",
       "      <td>0</td>\n",
       "      <td>0</td>\n",
       "      <td>1</td>\n",
       "      <td>1</td>\n",
       "      <td>2</td>\n",
       "      <td>1</td>\n",
       "    </tr>\n",
       "    <tr>\n",
       "      <th>8</th>\n",
       "      <td>ENSG00000238009.6</td>\n",
       "      <td>RP11-34P13.7</td>\n",
       "      <td>2</td>\n",
       "      <td>8</td>\n",
       "      <td>3</td>\n",
       "      <td>1</td>\n",
       "      <td>1</td>\n",
       "      <td>2</td>\n",
       "      <td>2</td>\n",
       "      <td>7</td>\n",
       "      <td>...</td>\n",
       "      <td>6</td>\n",
       "      <td>56</td>\n",
       "      <td>20</td>\n",
       "      <td>4</td>\n",
       "      <td>17</td>\n",
       "      <td>2</td>\n",
       "      <td>14</td>\n",
       "      <td>2</td>\n",
       "      <td>3</td>\n",
       "      <td>5</td>\n",
       "    </tr>\n",
       "    <tr>\n",
       "      <th>9</th>\n",
       "      <td>ENSG00000233750.3</td>\n",
       "      <td>CICP27</td>\n",
       "      <td>105</td>\n",
       "      <td>189</td>\n",
       "      <td>65</td>\n",
       "      <td>15</td>\n",
       "      <td>19</td>\n",
       "      <td>4</td>\n",
       "      <td>10</td>\n",
       "      <td>37</td>\n",
       "      <td>...</td>\n",
       "      <td>10</td>\n",
       "      <td>152</td>\n",
       "      <td>111</td>\n",
       "      <td>2</td>\n",
       "      <td>72</td>\n",
       "      <td>25</td>\n",
       "      <td>513</td>\n",
       "      <td>11</td>\n",
       "      <td>144</td>\n",
       "      <td>128</td>\n",
       "    </tr>\n",
       "  </tbody>\n",
       "</table>\n",
       "<p>10 rows × 757 columns</p>\n",
       "</div>"
      ],
      "text/plain": [
       "                 Name   Description  GTEX-111YS-0006-SM-5NQBE  \\\n",
       "id                                                              \n",
       "0   ENSG00000223972.5       DDX11L1                         1   \n",
       "1   ENSG00000227232.5        WASH7P                        55   \n",
       "2   ENSG00000278267.1     MIR6859-1                         0   \n",
       "3   ENSG00000243485.5   MIR1302-2HG                         0   \n",
       "4   ENSG00000237613.2       FAM138A                         0   \n",
       "5   ENSG00000268020.3        OR4G4P                         0   \n",
       "6   ENSG00000240361.1       OR4G11P                         1   \n",
       "7   ENSG00000186092.4         OR4F5                         0   \n",
       "8   ENSG00000238009.6  RP11-34P13.7                         2   \n",
       "9   ENSG00000233750.3        CICP27                       105   \n",
       "\n",
       "    GTEX-1122O-0005-SM-5O99J  GTEX-1128S-0005-SM-5P9HI  \\\n",
       "id                                                       \n",
       "0                          1                         1   \n",
       "1                         70                       168   \n",
       "2                          0                         0   \n",
       "3                          0                         0   \n",
       "4                          0                         2   \n",
       "5                          2                         0   \n",
       "6                          0                         0   \n",
       "7                          1                         0   \n",
       "8                          8                         3   \n",
       "9                        189                        65   \n",
       "\n",
       "    GTEX-113IC-0006-SM-5NQ9C  GTEX-113JC-0006-SM-5O997  \\\n",
       "id                                                       \n",
       "0                          5                         1   \n",
       "1                        240                        47   \n",
       "2                          0                         0   \n",
       "3                          0                         0   \n",
       "4                          0                         0   \n",
       "5                          0                         0   \n",
       "6                          0                         3   \n",
       "7                          0                         0   \n",
       "8                          1                         1   \n",
       "9                         15                        19   \n",
       "\n",
       "    GTEX-117XS-0005-SM-5PNU6  GTEX-117YW-0005-SM-5NQ8Z  \\\n",
       "id                                                       \n",
       "0                          1                         1   \n",
       "1                         95                       130   \n",
       "2                          0                         0   \n",
       "3                          0                         0   \n",
       "4                          0                         0   \n",
       "5                          0                         1   \n",
       "6                          1                         0   \n",
       "7                          0                         0   \n",
       "8                          2                         2   \n",
       "9                          4                        10   \n",
       "\n",
       "    GTEX-1192W-0005-SM-5NQBQ  ...  GTEX-ZVE2-0006-SM-51MRW  \\\n",
       "id                            ...                            \n",
       "0                          3  ...                        0   \n",
       "1                         71  ...                       39   \n",
       "2                          0  ...                        0   \n",
       "3                          1  ...                        0   \n",
       "4                          0  ...                        0   \n",
       "5                          0  ...                        0   \n",
       "6                          1  ...                        2   \n",
       "7                          0  ...                        1   \n",
       "8                          7  ...                        6   \n",
       "9                         37  ...                       10   \n",
       "\n",
       "    GTEX-ZVP2-0005-SM-51MRK  GTEX-ZVT2-0005-SM-57WBW  GTEX-ZVT3-0006-SM-51MT9  \\\n",
       "id                                                                              \n",
       "0                         3                        0                        0   \n",
       "1                       146                       73                       49   \n",
       "2                         0                        1                        0   \n",
       "3                         0                        0                        0   \n",
       "4                         0                        1                        0   \n",
       "5                         0                        0                        0   \n",
       "6                         3                        1                        0   \n",
       "7                         2                        1                        0   \n",
       "8                        56                       20                        4   \n",
       "9                       152                      111                        2   \n",
       "\n",
       "    GTEX-ZVT4-0006-SM-57WB8  GTEX-ZVTK-0006-SM-57WBK  GTEX-ZVZP-0006-SM-51MSW  \\\n",
       "id                                                                              \n",
       "0                         2                        4                        1   \n",
       "1                       101                       78                      109   \n",
       "2                         0                        0                        0   \n",
       "3                         2                        2                        0   \n",
       "4                         0                        1                        0   \n",
       "5                         0                        0                        1   \n",
       "6                         0                        1                        1   \n",
       "7                         0                        0                        1   \n",
       "8                        17                        2                       14   \n",
       "9                        72                       25                      513   \n",
       "\n",
       "    GTEX-ZVZQ-0006-SM-51MR8  GTEX-ZXES-0005-SM-57WCB  GTEX-ZXG5-0005-SM-57WCN  \n",
       "id                                                                             \n",
       "0                         0                        1                        0  \n",
       "1                       171                       99                      194  \n",
       "2                         0                        0                        1  \n",
       "3                         0                        0                        0  \n",
       "4                         0                        0                        0  \n",
       "5                         0                        0                        1  \n",
       "6                         0                        1                        0  \n",
       "7                         1                        2                        1  \n",
       "8                         2                        3                        5  \n",
       "9                        11                      144                      128  \n",
       "\n",
       "[10 rows x 757 columns]"
      ]
     },
     "execution_count": 2,
     "metadata": {},
     "output_type": "execute_result"
    }
   ],
   "source": [
    "\n",
    "\n",
    "\n",
    "whole_blood_gct =\"../data/gene_reads_whole_blood.gct\"\n",
    "\n",
    "df = pd.read_csv(\n",
    "    whole_blood_gct,\n",
    "    sep='\\t',\n",
    "    skiprows=2,\n",
    "    index_col='id',\n",
    "    dtype={'Name':'category', 'Description':'category'}\n",
    ")\n",
    "\n",
    "df.head(10)"
   ]
  },
  {
   "cell_type": "markdown",
   "id": "5fa42ccb",
   "metadata": {},
   "source": [
    "Raw counts of ill datat with GeneID with numerical value"
   ]
  },
  {
   "cell_type": "code",
   "execution_count": 3,
   "id": "a36c6939",
   "metadata": {},
   "outputs": [
    {
     "name": "stdout",
     "output_type": "stream",
     "text": [
      "(39376, 126)\n"
     ]
    }
   ],
   "source": [
    "sick_data = \"../data/GSE157103_raw_counts_GRCh38.p13_NCBI.tsv\"\n",
    "sick_counts = pd.read_csv(\n",
    "    sick_data,\n",
    "    sep='\\t',\n",
    "    index_col=\"GeneID\",\n",
    "    dtype=str\n",
    ")\n",
    "\n",
    "print(sick_counts.shape)"
   ]
  },
  {
   "cell_type": "markdown",
   "id": "792f7c37",
   "metadata": {},
   "source": [
    "Annotations from numerical GeneID to symbol that matches the GTEx data"
   ]
  },
  {
   "cell_type": "code",
   "execution_count": 4,
   "id": "5fb03333",
   "metadata": {},
   "outputs": [
    {
     "name": "stdout",
     "output_type": "stream",
     "text": [
      "(39376, 18)\n",
      "(39376, 126)\n"
     ]
    }
   ],
   "source": [
    "annot = pd.read_csv(\n",
    "    \"../data/Human.GRCh38.p13.annot.tsv\",\n",
    "    sep='\\t',\n",
    "    dtype=str\n",
    ")\n",
    "\n",
    "print(annot.shape)\n",
    "print(sick_counts.shape)"
   ]
  },
  {
   "cell_type": "code",
   "execution_count": 5,
   "id": "aff790e0",
   "metadata": {},
   "outputs": [
    {
     "name": "stdout",
     "output_type": "stream",
     "text": [
      "(39376, 127)\n"
     ]
    }
   ],
   "source": [
    "symbol_id = (annot[[\"GeneID\", \"Symbol\"]].drop_duplicates().set_index(\"GeneID\")[\"Symbol\"])\n",
    "sick_counts.index = sick_counts.index.astype(str) # match the type \n",
    "\n",
    "\n",
    "\n",
    "sick_counts[\"Symbol\"] = sick_counts.index.map(symbol_id)\n",
    "sick_counts = sick_counts.dropna(subset=[\"Symbol\"])\n",
    "cols = [\"Symbol\"]+[c for c in sick_counts.columns if c != \"Symbol\"]\n",
    "sick_counts = sick_counts[cols]\n",
    "\n",
    "print(sick_counts.shape)\n"
   ]
  },
  {
   "cell_type": "markdown",
   "id": "406cddad",
   "metadata": {},
   "source": [
    "Reading the metadata file from the GTEx website"
   ]
  },
  {
   "cell_type": "code",
   "execution_count": 6,
   "id": "ad24e349",
   "metadata": {},
   "outputs": [
    {
     "name": "stdout",
     "output_type": "stream",
     "text": [
      "Working with local copy\n"
     ]
    }
   ],
   "source": [
    "\n",
    "\n",
    "# URL of the file (right-click the download button and \"Copy link address\")\n",
    "url = \"https://storage.googleapis.com/adult-gtex/annotations/v8/metadata-files/GTEx_Analysis_v8_Annotations_SampleAttributesDS.txt\"\n",
    "\n",
    "filename_gtex_analysis = \"GTEx_Analysis_v8_Annotations_SampleAttributesDS.txt\"\n",
    "\n",
    "if not os.path.exists(filename_gtex_analysis):\n",
    "    print(\"Downloading file ...\")\n",
    "    \n",
    "    response = requests.get(url, stream=True)\n",
    "    response.raise_for_status()  # Check for errors\n",
    "\n",
    "\n",
    "    with open(filename_gtex_analysis, \"wb\") as f:\n",
    "        for chunk in response.iter_content(chunk_size=8192):\n",
    "            f.write(chunk)\n",
    "    print(\"File downloaded successfully!\")\n",
    "else:\n",
    "    print(\"Working with local copy\")"
   ]
  },
  {
   "cell_type": "markdown",
   "id": "2f475398",
   "metadata": {},
   "source": [
    "Reading the metadata and filtering just the samples from whole blood and getting rid of the ones with RIN smaller than 5.7.\n",
    "\n",
    "Filter out samples with small RIN from the read-count matrix\n"
   ]
  },
  {
   "cell_type": "code",
   "execution_count": 7,
   "id": "0d9a9d44",
   "metadata": {},
   "outputs": [
    {
     "name": "stdout",
     "output_type": "stream",
     "text": [
      "928\n",
      "757\n"
     ]
    }
   ],
   "source": [
    "meta = pd.read_csv(\"GTEx_Analysis_v8_Annotations_SampleAttributesDS.txt\", sep=\"\\t\")\n",
    "\n",
    "\n",
    "filtered_meta = meta[(meta[\"SMTSD\"] == 'Whole Blood') & (meta[\"SMRIN\"] >=5.7)]\n",
    "\n",
    "\n",
    "sample_ids = filtered_meta[\"SAMPID\"].tolist()\n",
    "\n",
    "\n",
    "print(len(sample_ids))\n",
    "\n",
    "\n",
    "cols_ = [\"Name\", \"Description\"]\n",
    "\n",
    "\n",
    "cols_+= [col for col in df.columns if col in sample_ids]\n",
    "\n",
    "df_filtered = df[cols_]\n",
    "\n",
    "\n",
    "\n",
    "print(len(df.columns))"
   ]
  },
  {
   "cell_type": "code",
   "execution_count": 8,
   "id": "85afd83a",
   "metadata": {},
   "outputs": [
    {
     "name": "stdout",
     "output_type": "stream",
     "text": [
      "(56200, 755)\n"
     ]
    }
   ],
   "source": [
    "print(df_filtered.shape)"
   ]
  },
  {
   "cell_type": "markdown",
   "id": "502b7431",
   "metadata": {},
   "source": [
    "Create database for the gtf file"
   ]
  },
  {
   "cell_type": "code",
   "execution_count": 9,
   "id": "a6f86b0c",
   "metadata": {},
   "outputs": [],
   "source": [
    "\n",
    "\n",
    "gtf_file = \"../data/gencode.v26.GRCh38.genes.gtf\"\n",
    "\n",
    "dbfn = \"genes.db\"\n",
    "\n",
    "if not os.path.exists(dbfn):\n",
    "\n",
    "    db = gffutils.create_db(gtf_file, dbfn=dbfn, \n",
    "                            force=True, keep_order=True, \n",
    "                            merge_strategy=\"merge\", \n",
    "                            disable_infer_transcripts=True, \n",
    "                            disable_infer_genes=True)\n",
    "else:\n",
    "    db = gffutils.FeatureDB(dbfn)\n",
    "    \n",
    "\n"
   ]
  },
  {
   "cell_type": "code",
   "execution_count": 11,
   "id": "71c498c5",
   "metadata": {},
   "outputs": [],
   "source": [
    "#df_filtered contains\n",
    "\n",
    "#from preprocessing import get_gene_length\n",
    "\n",
    "\n",
    "\n",
    "gene_length = []\n",
    "\n",
    "\n",
    "for gene in range(len(df_filtered.iloc[:, 2:])):\n",
    "    gene_id = str(df_filtered.iloc[gene, 0])\n",
    "    gene_length.append(get_gene_length(gene_id, db))\n",
    "    \n",
    "gene_length = np.array(gene_length)\n",
    "\n",
    "\n"
   ]
  },
  {
   "cell_type": "markdown",
   "id": "46c67dac",
   "metadata": {},
   "source": [
    "Delete genes that are not contained in the healthy genes "
   ]
  },
  {
   "cell_type": "code",
   "execution_count": 15,
   "id": "3709e4ba",
   "metadata": {},
   "outputs": [],
   "source": [
    "\n",
    "gene_name = df_filtered[['Name', 'Description']].to_numpy(dtype='str')\n",
    "\n",
    "\n",
    "healthy_symbol = set(gene_name[:, 1])\n",
    "\n",
    "\n",
    "sick_counts = sick_counts[sick_counts[\"Symbol\"].isin(healthy_symbol)]\n",
    "sick_counts_raw = sick_counts.iloc[:, 1:].to_numpy(dtype='float64')\n",
    "sick_geneids = set(sick_counts.index)\n",
    "\n"
   ]
  },
  {
   "cell_type": "markdown",
   "id": "af3372da",
   "metadata": {},
   "source": [
    "Calculations of fpkm values for the healthy data"
   ]
  },
  {
   "cell_type": "code",
   "execution_count": 16,
   "id": "325b9da1",
   "metadata": {},
   "outputs": [],
   "source": [
    "sample_lengths = df_filtered.iloc[:, 2:].sum()\n",
    "\n",
    "\n",
    "raw_counts  = df_filtered.iloc[:, 2:].to_numpy(dtype='float64')\n",
    "\n",
    "\n",
    "\n",
    "counts_fpkm = raw_counts*1e9\n",
    "\n",
    "\n",
    "counts_fpkm = counts_fpkm/sample_lengths.values[np.newaxis, :]\n",
    "\n",
    "\n",
    "counts_fpkm = counts_fpkm/ gene_length[:, np.newaxis]\n",
    "\n"
   ]
  },
  {
   "cell_type": "markdown",
   "id": "36c124d0",
   "metadata": {},
   "source": [
    " \n",
    "\n",
    "\n",
    "\n",
    "\n",
    "\"We then filtered for expressed genes, defined as genes for which at least 5% of the samples had a FPKM value greater than 1 . Additionally, we discarded genes that had zero counts in more than 75% of the samples.\"\n",
    "\n"
   ]
  },
  {
   "cell_type": "code",
   "execution_count": 17,
   "id": "270227c4",
   "metadata": {},
   "outputs": [
    {
     "name": "stdout",
     "output_type": "stream",
     "text": [
      "(6261, 753)\n",
      "(49939, 753)\n"
     ]
    }
   ],
   "source": [
    "fpkm_theshold = 1\n",
    "\n",
    "sample_number = counts_fpkm.shape[1]\n",
    "\n",
    "fpkm_percent = 0.95*sample_number\n",
    "\n",
    "zero_percent = 0.75*sample_number\n",
    "\n",
    "mask_fpkm = (counts_fpkm>=fpkm_theshold).sum(axis=1) >= fpkm_percent\n",
    "\n",
    "mask_zero = (counts_fpkm==0).sum(axis=1) <=zero_percent\n",
    "\n",
    "expressed_genes = raw_counts[mask_fpkm & mask_zero,:]\n",
    "expressed_genes_names = gene_name[mask_fpkm & mask_zero,:]\n",
    "\n",
    "print(expressed_genes.shape)\n",
    "\n",
    "non_expressed = raw_counts[~(mask_fpkm&mask_zero),:]\n",
    "non_expressed_names = gene_name[~(mask_fpkm&mask_zero), :]\n",
    "\n",
    "print(non_expressed.shape)\n",
    "\n",
    "\n",
    "\n"
   ]
  },
  {
   "cell_type": "markdown",
   "id": "73bd0bf5",
   "metadata": {},
   "source": [
    "Splitting the sick data into expressed and non-expressed genes with the help of the fpkm normalized counts"
   ]
  },
  {
   "cell_type": "code",
   "execution_count": 18,
   "id": "cd244f85",
   "metadata": {},
   "outputs": [
    {
     "name": "stdout",
     "output_type": "stream",
     "text": [
      "<class 'str'>\n",
      "<class 'str'>\n",
      "(7307, 126)\n",
      "(17206, 126)\n"
     ]
    }
   ],
   "source": [
    "sick_fpkm  = pd.read_csv(\n",
    "    \"../data/GSE157103_norm_counts_FPKM_GRCh38.p13_NCBI.tsv\",\n",
    "    sep='\\t',\n",
    "    index_col=\"GeneID\"\n",
    ")\n",
    "sick_fpkm.index = sick_fpkm.index.astype(str)\n",
    "print(type(next(iter(sick_fpkm.index))))\n",
    "print(type(next(iter(sick_geneids))))\n",
    "\n",
    "\n",
    "\n",
    "sick_fpkm_np = sick_fpkm[sick_fpkm.index.isin(sick_geneids)].to_numpy(dtype='float64')\n",
    "\n",
    "fpkm_theshold = 1\n",
    "\n",
    "sample_number = sick_fpkm_np.shape[1]\n",
    "\n",
    "fpkm_percent = 0.95*sample_number\n",
    "\n",
    "zero_percent = 0.75*sample_number\n",
    "\n",
    "mask_fpkm = (sick_fpkm_np>=fpkm_theshold).sum(axis=1) >= fpkm_percent\n",
    "\n",
    "mask_zero = (sick_fpkm_np==0).sum(axis=1) <=zero_percent\n",
    "\n",
    "expressed_genes_sick = sick_counts_raw[mask_fpkm & mask_zero,:]\n",
    "\n",
    "\n",
    "print(expressed_genes_sick.shape)\n",
    "\n",
    "non_expressed_sick = sick_counts_raw[~(mask_fpkm&mask_zero),:]\n",
    "\n",
    "print(non_expressed_sick.shape)\n",
    "\n"
   ]
  },
  {
   "cell_type": "code",
   "execution_count": 19,
   "id": "5a0155c4",
   "metadata": {},
   "outputs": [
    {
     "name": "stdout",
     "output_type": "stream",
     "text": [
      "(5,)\n"
     ]
    },
    {
     "data": {
      "image/png": "[encoded data removed]",
      "text/plain": [
       "<Figure size 1200x500 with 1 Axes>"
      ]
     },
     "metadata": {},
     "output_type": "display_data"
    }
   ],
   "source": [
    "\n",
    "\n",
    "i = random.randint(0, non_expressed.shape[0]-1)\n",
    "gene_expression = non_expressed[i, :]\n",
    "unique_counts, frequencies = np.unique(gene_expression, return_counts=True)\n",
    "print(unique_counts.shape)\n",
    "gene_id, gene_desc = non_expressed_names[i]\n",
    "\n",
    "sorted_indices = np.argsort(unique_counts)\n",
    "unique_counts_sorted = unique_counts[sorted_indices]\n",
    "frequencies_sorted = frequencies[sorted_indices]\n",
    "\n",
    " \n",
    "plt.figure(figsize=(12, 5))\n",
    "plt.plot(unique_counts_sorted, frequencies_sorted, color='green', marker='o', label=f\"{gene_id}: {gene_desc}\")\n",
    "plt.title(\"Gene expression across samples\", fontsize=14)\n",
    "plt.xlabel(\"Raw Count Value\", fontsize=10)\n",
    "plt.ylabel(\"Frequency\", fontsize=10)\n",
    "# plt.scatter(unique_counts, frequencies, color='green', label=f\"{gene_id}: {gene_desc}\")\n",
    "# plt.title(\"gene expression across samples\", fontsize=14)\n",
    "# plt.xlabel(\"Expression Count Value\", fontsize=10)\n",
    "# plt.ylabel(\"Frequency\", fontsize=10)\n",
    "plt.legend()\n",
    "plt.grid(alpha=0.2)\n",
    "plt.tight_layout() \n",
    "plt.show()\n"
   ]
  },
  {
   "cell_type": "markdown",
   "id": "f743da52",
   "metadata": {},
   "source": [
    "Calculating the size factors which capture variations in sequencing depth; estimated as the median of the ratios of the gene read counts to their geometric means"
   ]
  },
  {
   "cell_type": "code",
   "execution_count": 20,
   "id": "59eb75ca",
   "metadata": {},
   "outputs": [
    {
     "name": "stdout",
     "output_type": "stream",
     "text": [
      "(6261, 753)\n",
      "(6261, 753)\n",
      "(6261, 1)\n"
     ]
    }
   ],
   "source": [
    "\n",
    "\n",
    "print(expressed_genes.shape)\n",
    "\n",
    "size_factors = size_factor_expressed(expressed_genes)\n",
    "\n",
    "x, bias = size_factor_normalization(expressed_genes, size_factors)\n",
    "print(x.shape) \n",
    "print(bias.shape)\n"
   ]
  },
  {
   "cell_type": "markdown",
   "id": "c7b9451f",
   "metadata": {},
   "source": [
    "Plots for checking the  mean-variance relationship for expressed and non expressed "
   ]
  },
  {
   "cell_type": "code",
   "execution_count": 21,
   "id": "73d4f893",
   "metadata": {},
   "outputs": [
    {
     "data": {
      "image/png": "[encoded data removed]",
      "text/plain": [
       "<Figure size 800x600 with 1 Axes>"
      ]
     },
     "metadata": {},
     "output_type": "display_data"
    },
    {
     "data": {
      "image/png": "[encoded data removed]",
      "text/plain": [
       "<Figure size 800x600 with 1 Axes>"
      ]
     },
     "metadata": {},
     "output_type": "display_data"
    }
   ],
   "source": [
    "\n",
    "\n",
    "\n",
    "means = expressed_genes.mean(axis=1)\n",
    "variances = expressed_genes.var(axis=1, ddof=1)\n",
    "\n",
    "plt.figure(figsize=(8, 6))\n",
    "plt.scatter(means, variances, alpha=0.3)\n",
    "plt.plot([0, max(means)], [0, max(means)], 'r--', label='y = x (Poisson)')\n",
    "plt.xlabel(\"Mean Expression\")\n",
    "plt.ylabel(\"Variance\")\n",
    "plt.title(\"Mean-Variance Relationship\")\n",
    "plt.legend()\n",
    "plt.grid(alpha=0.2)\n",
    "plt.xscale(\"log\")\n",
    "plt.yscale(\"log\")\n",
    "plt.tight_layout()\n",
    "plt.show()\n",
    "\n",
    "\n",
    "means = non_expressed.mean(axis=1)\n",
    "variances = non_expressed.var(axis=1, ddof=1)\n",
    "\n",
    "plt.figure(figsize=(8, 6))\n",
    "plt.scatter(means, variances, alpha=0.3)\n",
    "plt.plot([0, max(means)], [0, max(means)], 'r--', label='y = x (Poisson)')\n",
    "plt.xlabel(\"Mean Expression\")\n",
    "plt.ylabel(\"Variance\")\n",
    "plt.title(\"Mean-Variance Relationship non expressed genes\")\n",
    "plt.legend()\n",
    "plt.grid(alpha=0.2)\n",
    "plt.xscale(\"log\")\n",
    "plt.yscale(\"log\")\n",
    "plt.tight_layout()\n",
    "plt.show()\n",
    "\n",
    "\n"
   ]
  },
  {
   "cell_type": "code",
   "execution_count": 22,
   "id": "9e1ac703",
   "metadata": {},
   "outputs": [
    {
     "data": {
      "image/png": "[encoded data removed]",
      "text/plain": [
       "<Figure size 800x600 with 1 Axes>"
      ]
     },
     "metadata": {},
     "output_type": "display_data"
    }
   ],
   "source": [
    "\n",
    "\n",
    "\n",
    "means = raw_counts.mean(axis=1)\n",
    "variances = raw_counts.var(axis=1, ddof=1)\n",
    "\n",
    "plt.figure(figsize=(8, 6))\n",
    "plt.scatter(means, variances, alpha=0.3)\n",
    "plt.plot([0, max(means)], [0, max(means)], 'r--', label='y = x (Poisson)')\n",
    "plt.xlabel(\"Mean Expression\")\n",
    "plt.ylabel(\"Variance\")\n",
    "plt.title(\"Mean-Variance Relationship\")\n",
    "plt.legend()\n",
    "plt.grid(alpha=0.2)\n",
    "plt.xscale(\"log\")\n",
    "plt.yscale(\"log\")\n",
    "plt.tight_layout()\n",
    "plt.show()\n",
    "\n",
    "\n"
   ]
  },
  {
   "cell_type": "markdown",
   "id": "8df4c9d2",
   "metadata": {},
   "source": [
    "Check of zero rates in the non expressed genes"
   ]
  },
  {
   "cell_type": "code",
   "execution_count": 23,
   "id": "bf370180",
   "metadata": {},
   "outputs": [
    {
     "data": {
      "image/png": "[encoded data removed]",
      "text/plain": [
       "<Figure size 640x480 with 1 Axes>"
      ]
     },
     "metadata": {},
     "output_type": "display_data"
    }
   ],
   "source": [
    "zero_fractions = np.mean(non_expressed == 0, axis=1)\n",
    "plt.hist(zero_fractions, bins=30)\n",
    "plt.title(\"Zero Fraction per Gene\")\n",
    "plt.xlabel(\"Fraction of Samples with Zero Count\")\n",
    "plt.ylabel(\"Number of Genes\")\n",
    "plt.show()\n"
   ]
  },
  {
   "cell_type": "code",
   "execution_count": 36,
   "id": "83319a83",
   "metadata": {},
   "outputs": [
    {
     "name": "stdout",
     "output_type": "stream",
     "text": [
      "0\n",
      "0\n"
     ]
    }
   ],
   "source": [
    "\n",
    "\n",
    "#size factors are strictly positive\n",
    "\n",
    "print(np.sum(size_factors <0)) \n",
    "\n",
    "theta = robust_method_of_moments_theta(expressed_genes)\n",
    "\n",
    "print(np.sum(theta<0))\n",
    "\n"
   ]
  },
  {
   "cell_type": "markdown",
   "id": "490523bd",
   "metadata": {},
   "source": [
    "Check the sizes of all the initialization matrixes"
   ]
  },
  {
   "cell_type": "code",
   "execution_count": 37,
   "id": "ea3cd708",
   "metadata": {},
   "outputs": [
    {
     "name": "stdout",
     "output_type": "stream",
     "text": [
      "(6261,)\n",
      "(6261, 753)\n",
      "(6261, 753)\n",
      "(753,)\n",
      "(6261, 1)\n",
      "753\n"
     ]
    }
   ],
   "source": [
    "\n",
    "\n",
    "\n",
    "\n",
    "\n",
    "print(theta.shape)\n",
    "\n",
    "print(expressed_genes.shape)\n",
    "print(x.shape)\n",
    "# print(W_e.shape)\n",
    "# print(W_d.shape)\n",
    "print(size_factors.shape)\n",
    "print(bias.shape)\n",
    "print(expressed_genes.shape[1])\n",
    "\n",
    "\n",
    "\n",
    "\n",
    "\n",
    "\n",
    "\n"
   ]
  },
  {
   "cell_type": "code",
   "execution_count": 38,
   "id": "3dec9d20",
   "metadata": {},
   "outputs": [
    {
     "name": "stderr",
     "output_type": "stream",
     "text": [
      "Training:   2%|▏         | 1/50 [00:03<02:48,  3.44s/it]"
     ]
    },
    {
     "name": "stdout",
     "output_type": "stream",
     "text": [
      "Epoch 0, NLL: 8.264859\n"
     ]
    },
    {
     "name": "stderr",
     "output_type": "stream",
     "text": [
      "Training:   4%|▍         | 2/50 [00:04<01:24,  1.77s/it]"
     ]
    },
    {
     "name": "stdout",
     "output_type": "stream",
     "text": [
      "Epoch 1, NLL: 8.240694\n"
     ]
    },
    {
     "name": "stderr",
     "output_type": "stream",
     "text": [
      "Training:   6%|▌         | 3/50 [00:04<00:57,  1.23s/it]"
     ]
    },
    {
     "name": "stdout",
     "output_type": "stream",
     "text": [
      "Epoch 2, NLL: 8.219738\n"
     ]
    },
    {
     "name": "stderr",
     "output_type": "stream",
     "text": [
      "Training:   8%|▊         | 4/50 [00:05<00:42,  1.08it/s]"
     ]
    },
    {
     "name": "stdout",
     "output_type": "stream",
     "text": [
      "Epoch 3, NLL: 8.201269\n"
     ]
    },
    {
     "name": "stderr",
     "output_type": "stream",
     "text": [
      "Training:  10%|█         | 5/50 [00:05<00:39,  1.13it/s]"
     ]
    },
    {
     "name": "stdout",
     "output_type": "stream",
     "text": [
      "Epoch 4, NLL: 8.185067\n"
     ]
    },
    {
     "name": "stderr",
     "output_type": "stream",
     "text": [
      "Training:  12%|█▏        | 6/50 [00:07<00:42,  1.04it/s]"
     ]
    },
    {
     "name": "stdout",
     "output_type": "stream",
     "text": [
      "Epoch 5, NLL: 8.171061\n"
     ]
    },
    {
     "name": "stderr",
     "output_type": "stream",
     "text": [
      "Training:  14%|█▍        | 7/50 [00:07<00:39,  1.08it/s]"
     ]
    },
    {
     "name": "stdout",
     "output_type": "stream",
     "text": [
      "Epoch 6, NLL: 8.158771\n"
     ]
    },
    {
     "name": "stderr",
     "output_type": "stream",
     "text": [
      "Training:  16%|█▌        | 8/50 [00:08<00:32,  1.28it/s]"
     ]
    },
    {
     "name": "stdout",
     "output_type": "stream",
     "text": [
      "Epoch 7, NLL: 8.148262\n"
     ]
    },
    {
     "name": "stderr",
     "output_type": "stream",
     "text": [
      "Training:  18%|█▊        | 9/50 [00:08<00:29,  1.41it/s]"
     ]
    },
    {
     "name": "stdout",
     "output_type": "stream",
     "text": [
      "Epoch 8, NLL: 8.138993\n"
     ]
    },
    {
     "name": "stderr",
     "output_type": "stream",
     "text": [
      "Training:  20%|██        | 10/50 [00:09<00:28,  1.41it/s]"
     ]
    },
    {
     "name": "stdout",
     "output_type": "stream",
     "text": [
      "Epoch 9, NLL: 8.130791\n"
     ]
    },
    {
     "name": "stderr",
     "output_type": "stream",
     "text": [
      "Training:  22%|██▏       | 11/50 [00:10<00:25,  1.54it/s]"
     ]
    },
    {
     "name": "stdout",
     "output_type": "stream",
     "text": [
      "Epoch 10, NLL: 8.123511\n"
     ]
    },
    {
     "name": "stderr",
     "output_type": "stream",
     "text": [
      "Training:  24%|██▍       | 12/50 [00:10<00:22,  1.67it/s]"
     ]
    },
    {
     "name": "stdout",
     "output_type": "stream",
     "text": [
      "Epoch 11, NLL: 8.117013\n"
     ]
    },
    {
     "name": "stderr",
     "output_type": "stream",
     "text": [
      "Training:  26%|██▌       | 13/50 [00:11<00:21,  1.75it/s]"
     ]
    },
    {
     "name": "stdout",
     "output_type": "stream",
     "text": [
      "Epoch 12, NLL: 8.111190\n"
     ]
    },
    {
     "name": "stderr",
     "output_type": "stream",
     "text": [
      "Training:  28%|██▊       | 14/50 [00:11<00:19,  1.86it/s]"
     ]
    },
    {
     "name": "stdout",
     "output_type": "stream",
     "text": [
      "Epoch 13, NLL: 8.105950\n"
     ]
    },
    {
     "name": "stderr",
     "output_type": "stream",
     "text": [
      "Training:  30%|███       | 15/50 [00:11<00:17,  1.97it/s]"
     ]
    },
    {
     "name": "stdout",
     "output_type": "stream",
     "text": [
      "Epoch 14, NLL: 8.101290\n"
     ]
    },
    {
     "name": "stderr",
     "output_type": "stream",
     "text": [
      "Training:  32%|███▏      | 16/50 [00:12<00:17,  1.90it/s]"
     ]
    },
    {
     "name": "stdout",
     "output_type": "stream",
     "text": [
      "Epoch 15, NLL: 8.097026\n"
     ]
    },
    {
     "name": "stderr",
     "output_type": "stream",
     "text": [
      "Training:  34%|███▍      | 17/50 [00:13<00:18,  1.78it/s]"
     ]
    },
    {
     "name": "stdout",
     "output_type": "stream",
     "text": [
      "Epoch 16, NLL: 8.093173\n"
     ]
    },
    {
     "name": "stderr",
     "output_type": "stream",
     "text": [
      "Training:  36%|███▌      | 18/50 [00:13<00:17,  1.88it/s]"
     ]
    },
    {
     "name": "stdout",
     "output_type": "stream",
     "text": [
      "Epoch 17, NLL: 8.089761\n"
     ]
    },
    {
     "name": "stderr",
     "output_type": "stream",
     "text": [
      "Training:  38%|███▊      | 19/50 [00:14<00:15,  1.95it/s]"
     ]
    },
    {
     "name": "stdout",
     "output_type": "stream",
     "text": [
      "Epoch 18, NLL: 8.086551\n"
     ]
    },
    {
     "name": "stderr",
     "output_type": "stream",
     "text": [
      "Training:  40%|████      | 20/50 [00:14<00:15,  2.00it/s]"
     ]
    },
    {
     "name": "stdout",
     "output_type": "stream",
     "text": [
      "Epoch 19, NLL: 8.083660\n"
     ]
    },
    {
     "name": "stderr",
     "output_type": "stream",
     "text": [
      "Training:  42%|████▏     | 21/50 [00:15<00:14,  1.97it/s]"
     ]
    },
    {
     "name": "stdout",
     "output_type": "stream",
     "text": [
      "Epoch 20, NLL: 8.081069\n"
     ]
    },
    {
     "name": "stderr",
     "output_type": "stream",
     "text": [
      "Training:  44%|████▍     | 22/50 [00:15<00:14,  1.97it/s]"
     ]
    },
    {
     "name": "stdout",
     "output_type": "stream",
     "text": [
      "Epoch 21, NLL: 8.078606\n"
     ]
    },
    {
     "name": "stderr",
     "output_type": "stream",
     "text": [
      "Training:  46%|████▌     | 23/50 [00:16<00:13,  2.00it/s]"
     ]
    },
    {
     "name": "stdout",
     "output_type": "stream",
     "text": [
      "Epoch 22, NLL: 8.076424\n"
     ]
    },
    {
     "name": "stderr",
     "output_type": "stream",
     "text": [
      "Training:  48%|████▊     | 24/50 [00:16<00:12,  2.06it/s]"
     ]
    },
    {
     "name": "stdout",
     "output_type": "stream",
     "text": [
      "Epoch 23, NLL: 8.074414\n"
     ]
    },
    {
     "name": "stderr",
     "output_type": "stream",
     "text": [
      "Training:  50%|█████     | 25/50 [00:17<00:11,  2.09it/s]"
     ]
    },
    {
     "name": "stdout",
     "output_type": "stream",
     "text": [
      "Epoch 24, NLL: 8.072479\n"
     ]
    },
    {
     "name": "stderr",
     "output_type": "stream",
     "text": [
      "Training:  52%|█████▏    | 26/50 [00:17<00:13,  1.77it/s]"
     ]
    },
    {
     "name": "stdout",
     "output_type": "stream",
     "text": [
      "Epoch 25, NLL: 8.070809\n"
     ]
    },
    {
     "name": "stderr",
     "output_type": "stream",
     "text": [
      "Training:  54%|█████▍    | 27/50 [00:18<00:12,  1.79it/s]"
     ]
    },
    {
     "name": "stdout",
     "output_type": "stream",
     "text": [
      "Epoch 26, NLL: 8.069197\n"
     ]
    },
    {
     "name": "stderr",
     "output_type": "stream",
     "text": [
      "Training:  56%|█████▌    | 28/50 [00:18<00:11,  1.89it/s]"
     ]
    },
    {
     "name": "stdout",
     "output_type": "stream",
     "text": [
      "Epoch 27, NLL: 8.067698\n"
     ]
    },
    {
     "name": "stderr",
     "output_type": "stream",
     "text": [
      "Training:  58%|█████▊    | 29/50 [00:19<00:10,  1.91it/s]"
     ]
    },
    {
     "name": "stdout",
     "output_type": "stream",
     "text": [
      "Epoch 28, NLL: 8.066361\n"
     ]
    },
    {
     "name": "stderr",
     "output_type": "stream",
     "text": [
      "Training:  60%|██████    | 30/50 [00:19<00:11,  1.81it/s]"
     ]
    },
    {
     "name": "stdout",
     "output_type": "stream",
     "text": [
      "Epoch 29, NLL: 8.065123\n"
     ]
    },
    {
     "name": "stderr",
     "output_type": "stream",
     "text": [
      "Training:  62%|██████▏   | 31/50 [00:20<00:10,  1.79it/s]"
     ]
    },
    {
     "name": "stdout",
     "output_type": "stream",
     "text": [
      "Epoch 30, NLL: 8.063891\n"
     ]
    },
    {
     "name": "stderr",
     "output_type": "stream",
     "text": [
      "Training:  64%|██████▍   | 32/50 [00:21<00:10,  1.69it/s]"
     ]
    },
    {
     "name": "stdout",
     "output_type": "stream",
     "text": [
      "Epoch 31, NLL: 8.062796\n"
     ]
    },
    {
     "name": "stderr",
     "output_type": "stream",
     "text": [
      "Training:  66%|██████▌   | 33/50 [00:21<00:09,  1.80it/s]"
     ]
    },
    {
     "name": "stdout",
     "output_type": "stream",
     "text": [
      "Epoch 32, NLL: 8.061830\n"
     ]
    },
    {
     "name": "stderr",
     "output_type": "stream",
     "text": [
      "Training:  68%|██████▊   | 34/50 [00:22<00:09,  1.68it/s]"
     ]
    },
    {
     "name": "stdout",
     "output_type": "stream",
     "text": [
      "Epoch 33, NLL: 8.060862\n"
     ]
    },
    {
     "name": "stderr",
     "output_type": "stream",
     "text": [
      "Training:  70%|███████   | 35/50 [00:23<00:09,  1.63it/s]"
     ]
    },
    {
     "name": "stdout",
     "output_type": "stream",
     "text": [
      "Epoch 34, NLL: 8.059916\n"
     ]
    },
    {
     "name": "stderr",
     "output_type": "stream",
     "text": [
      "Training:  72%|███████▏  | 36/50 [00:23<00:09,  1.51it/s]"
     ]
    },
    {
     "name": "stdout",
     "output_type": "stream",
     "text": [
      "Epoch 35, NLL: 8.059052\n"
     ]
    },
    {
     "name": "stderr",
     "output_type": "stream",
     "text": [
      "Training:  74%|███████▍  | 37/50 [00:24<00:07,  1.67it/s]"
     ]
    },
    {
     "name": "stdout",
     "output_type": "stream",
     "text": [
      "Epoch 36, NLL: 8.058147\n"
     ]
    },
    {
     "name": "stderr",
     "output_type": "stream",
     "text": [
      "Training:  76%|███████▌  | 38/50 [00:24<00:06,  1.82it/s]"
     ]
    },
    {
     "name": "stdout",
     "output_type": "stream",
     "text": [
      "Epoch 37, NLL: 8.057457\n"
     ]
    },
    {
     "name": "stderr",
     "output_type": "stream",
     "text": [
      "Training:  78%|███████▊  | 39/50 [00:25<00:06,  1.76it/s]"
     ]
    },
    {
     "name": "stdout",
     "output_type": "stream",
     "text": [
      "Epoch 38, NLL: 8.056619\n"
     ]
    },
    {
     "name": "stderr",
     "output_type": "stream",
     "text": [
      "Training:  80%|████████  | 40/50 [00:26<00:06,  1.44it/s]"
     ]
    },
    {
     "name": "stdout",
     "output_type": "stream",
     "text": [
      "Epoch 39, NLL: 8.055875\n"
     ]
    },
    {
     "name": "stderr",
     "output_type": "stream",
     "text": [
      "Training:  82%|████████▏ | 41/50 [00:27<00:06,  1.34it/s]"
     ]
    },
    {
     "name": "stdout",
     "output_type": "stream",
     "text": [
      "Epoch 40, NLL: 8.055140\n"
     ]
    },
    {
     "name": "stderr",
     "output_type": "stream",
     "text": [
      "Training:  84%|████████▍ | 42/50 [00:27<00:05,  1.38it/s]"
     ]
    },
    {
     "name": "stdout",
     "output_type": "stream",
     "text": [
      "Epoch 41, NLL: 8.054497\n"
     ]
    },
    {
     "name": "stderr",
     "output_type": "stream",
     "text": [
      "Training:  86%|████████▌ | 43/50 [00:28<00:04,  1.53it/s]"
     ]
    },
    {
     "name": "stdout",
     "output_type": "stream",
     "text": [
      "Epoch 42, NLL: 8.053832\n"
     ]
    },
    {
     "name": "stderr",
     "output_type": "stream",
     "text": [
      "Training:  88%|████████▊ | 44/50 [00:28<00:03,  1.53it/s]"
     ]
    },
    {
     "name": "stdout",
     "output_type": "stream",
     "text": [
      "Epoch 43, NLL: 8.053208\n"
     ]
    },
    {
     "name": "stderr",
     "output_type": "stream",
     "text": [
      "Training:  90%|█████████ | 45/50 [00:29<00:03,  1.66it/s]"
     ]
    },
    {
     "name": "stdout",
     "output_type": "stream",
     "text": [
      "Epoch 44, NLL: 8.052692\n"
     ]
    },
    {
     "name": "stderr",
     "output_type": "stream",
     "text": [
      "Training:  92%|█████████▏| 46/50 [00:30<00:02,  1.67it/s]"
     ]
    },
    {
     "name": "stdout",
     "output_type": "stream",
     "text": [
      "Epoch 45, NLL: 8.052157\n"
     ]
    },
    {
     "name": "stderr",
     "output_type": "stream",
     "text": [
      "Training:  94%|█████████▍| 47/50 [00:30<00:01,  1.64it/s]"
     ]
    },
    {
     "name": "stdout",
     "output_type": "stream",
     "text": [
      "Epoch 46, NLL: 8.051580\n"
     ]
    },
    {
     "name": "stderr",
     "output_type": "stream",
     "text": [
      "Training:  96%|█████████▌| 48/50 [00:31<00:01,  1.72it/s]"
     ]
    },
    {
     "name": "stdout",
     "output_type": "stream",
     "text": [
      "Epoch 47, NLL: 8.051115\n"
     ]
    },
    {
     "name": "stderr",
     "output_type": "stream",
     "text": [
      "Training:  98%|█████████▊| 49/50 [00:31<00:00,  1.82it/s]"
     ]
    },
    {
     "name": "stdout",
     "output_type": "stream",
     "text": [
      "Epoch 48, NLL: 8.050549\n"
     ]
    },
    {
     "name": "stderr",
     "output_type": "stream",
     "text": [
      "Training: 100%|██████████| 50/50 [00:32<00:00,  1.54it/s]"
     ]
    },
    {
     "name": "stdout",
     "output_type": "stream",
     "text": [
      "Epoch 49, NLL: 8.050148\n"
     ]
    },
    {
     "name": "stderr",
     "output_type": "stream",
     "text": [
      "\n"
     ]
    },
    {
     "data": {
      "image/png": "[encoded data removed]",
      "text/plain": [
       "<Figure size 640x480 with 1 Axes>"
      ]
     },
     "metadata": {},
     "output_type": "display_data"
    }
   ],
   "source": [
    "\n",
    "torch.set_num_threads(120)\n",
    "import sys\n",
    "import importlib\n",
    "import os\n",
    "sys.path.append(\"../\")\n",
    "\n",
    "importlib.reload(src.autoencoder)\n",
    "from src.autoencoder import EncoderExpressed, DecoderExpressed, AutoencoderExpressed\n",
    "\n",
    "latent_dimension = 16\n",
    "\n",
    "W_e, W_d = pca_init(expressed_genes.T, latent_dimension)\n",
    "\n",
    "\n",
    "encoder_16 = EncoderExpressed(expressed_genes.shape[0], W_e.T, latent_dimension)\n",
    "\n",
    "decoder_16 = DecoderExpressed(W_d.T, bias, expressed_genes.shape[0], latent_dimension)\n",
    "\n",
    "\n",
    "\n",
    "autoencoder_16 = AutoencoderExpressed(encoder=encoder_16, decoder=decoder_16, theta=theta, size_factors=size_factors)\n",
    "\n",
    "X = torch.tensor(x.T, dtype=torch.float32)\n",
    "K = torch.tensor(expressed_genes.T, dtype=torch.float32)\n",
    "\n",
    "loss = autoencoder_16.fit(X, K, n_epochs=50)\n",
    "\n",
    "\n",
    "loss_values = [l.detach().cpu().item() for l in loss]\n",
    "\n",
    "plt.plot(loss_values)\n",
    "plt.xlabel(\"Epoch\")\n",
    "plt.ylabel(\"Negative Log-Likelihood\")\n",
    "plt.title(\"Training Progress\")\n",
    "plt.show()"
   ]
  },
  {
   "cell_type": "code",
   "execution_count": 39,
   "id": "b7a9855f",
   "metadata": {},
   "outputs": [],
   "source": [
    "\n",
    "\n",
    "import sys\n",
    "import importlib\n",
    "import os\n",
    "sys.path.append(\"../\")\n",
    "from src import getDimension\n",
    "importlib.reload(src.getDimension)\n",
    "importlib.reload(src.normalization)\n",
    "from src.normalization import size_factor_normalization\n",
    "from src.getDimension import inject_outliers, compute_auc_pr, compute_pvalues\n",
    "\n",
    "outlier_matrix, mask = inject_outliers(expressed_genes, size_factors=size_factors)\n",
    "\n",
    "outlier_matrix_norm, _ = size_factor_normalization(outlier_matrix, size_factors)\n",
    "\n",
    "outliers = torch.tensor(outlier_matrix_norm.T, dtype=torch.float32)\n",
    "\n",
    "\n",
    "\n",
    "\n",
    "\n",
    "\n",
    "\n"
   ]
  },
  {
   "cell_type": "code",
   "execution_count": 40,
   "id": "4eab1fbd",
   "metadata": {},
   "outputs": [
    {
     "name": "stdout",
     "output_type": "stream",
     "text": [
      "0.9999118016795742\n"
     ]
    }
   ],
   "source": [
    "import sys\n",
    "import importlib\n",
    "import os\n",
    "sys.path.append(\"../\")\n",
    "\n",
    "importlib.reload(src.getDimension)\n",
    "from src.getDimension import compute_auc_pr, compute_pvalues\n",
    "\n",
    "mu_trained = autoencoder_16.get_mu(autoencoder_16.forward(outliers)).detach().cpu().numpy().T\n",
    "\n",
    "theta_trained = autoencoder_16.get_theta().detach().cpu().numpy()\n",
    "\n",
    "\n",
    "pvals = compute_pvalues(outlier_matrix, mu_trained, theta_trained)\n",
    "\n",
    "auc_16 = compute_auc_pr(mask.flatten(), pvals.flatten())\n",
    "print(auc_16)"
   ]
  },
  {
   "cell_type": "code",
   "execution_count": 29,
   "id": "e389c21e",
   "metadata": {},
   "outputs": [
    {
     "name": "stderr",
     "output_type": "stream",
     "text": [
      "Training:   2%|▏         | 1/50 [00:00<00:29,  1.69it/s]"
     ]
    },
    {
     "name": "stdout",
     "output_type": "stream",
     "text": [
      "Epoch 0, NLL: 8.194646\n"
     ]
    },
    {
     "name": "stderr",
     "output_type": "stream",
     "text": [
      "Training:   4%|▍         | 2/50 [00:01<00:25,  1.85it/s]"
     ]
    },
    {
     "name": "stdout",
     "output_type": "stream",
     "text": [
      "Epoch 1, NLL: 8.155943\n"
     ]
    },
    {
     "name": "stderr",
     "output_type": "stream",
     "text": [
      "Training:   6%|▌         | 3/50 [00:01<00:24,  1.89it/s]"
     ]
    },
    {
     "name": "stdout",
     "output_type": "stream",
     "text": [
      "Epoch 2, NLL: 8.127958\n"
     ]
    },
    {
     "name": "stderr",
     "output_type": "stream",
     "text": [
      "Training:   8%|▊         | 4/50 [00:02<00:25,  1.83it/s]"
     ]
    },
    {
     "name": "stdout",
     "output_type": "stream",
     "text": [
      "Epoch 3, NLL: 8.107918\n"
     ]
    },
    {
     "name": "stderr",
     "output_type": "stream",
     "text": [
      "Training:  10%|█         | 5/50 [00:02<00:24,  1.80it/s]"
     ]
    },
    {
     "name": "stdout",
     "output_type": "stream",
     "text": [
      "Epoch 4, NLL: 8.093030\n"
     ]
    },
    {
     "name": "stderr",
     "output_type": "stream",
     "text": [
      "Training:  12%|█▏        | 6/50 [00:03<00:23,  1.88it/s]"
     ]
    },
    {
     "name": "stdout",
     "output_type": "stream",
     "text": [
      "Epoch 5, NLL: 8.082064\n"
     ]
    },
    {
     "name": "stderr",
     "output_type": "stream",
     "text": [
      "Training:  14%|█▍        | 7/50 [00:03<00:22,  1.92it/s]"
     ]
    },
    {
     "name": "stdout",
     "output_type": "stream",
     "text": [
      "Epoch 6, NLL: 8.073592\n"
     ]
    },
    {
     "name": "stderr",
     "output_type": "stream",
     "text": [
      "Training:  16%|█▌        | 8/50 [00:04<00:22,  1.88it/s]"
     ]
    },
    {
     "name": "stdout",
     "output_type": "stream",
     "text": [
      "Epoch 7, NLL: 8.066948\n"
     ]
    },
    {
     "name": "stderr",
     "output_type": "stream",
     "text": [
      "Training:  18%|█▊        | 9/50 [00:04<00:21,  1.87it/s]"
     ]
    },
    {
     "name": "stdout",
     "output_type": "stream",
     "text": [
      "Epoch 8, NLL: 8.061579\n"
     ]
    },
    {
     "name": "stderr",
     "output_type": "stream",
     "text": [
      "Training:  20%|██        | 10/50 [00:05<00:21,  1.86it/s]"
     ]
    },
    {
     "name": "stdout",
     "output_type": "stream",
     "text": [
      "Epoch 9, NLL: 8.057085\n"
     ]
    },
    {
     "name": "stderr",
     "output_type": "stream",
     "text": [
      "Training:  22%|██▏       | 11/50 [00:05<00:20,  1.88it/s]"
     ]
    },
    {
     "name": "stdout",
     "output_type": "stream",
     "text": [
      "Epoch 10, NLL: 8.053418\n"
     ]
    },
    {
     "name": "stderr",
     "output_type": "stream",
     "text": [
      "Training:  24%|██▍       | 12/50 [00:06<00:19,  1.90it/s]"
     ]
    },
    {
     "name": "stdout",
     "output_type": "stream",
     "text": [
      "Epoch 11, NLL: 8.050275\n"
     ]
    },
    {
     "name": "stderr",
     "output_type": "stream",
     "text": [
      "Training:  26%|██▌       | 13/50 [00:06<00:19,  1.90it/s]"
     ]
    },
    {
     "name": "stdout",
     "output_type": "stream",
     "text": [
      "Epoch 12, NLL: 8.047491\n"
     ]
    },
    {
     "name": "stderr",
     "output_type": "stream",
     "text": [
      "Training:  28%|██▊       | 14/50 [00:07<00:19,  1.89it/s]"
     ]
    },
    {
     "name": "stdout",
     "output_type": "stream",
     "text": [
      "Epoch 13, NLL: 8.045287\n"
     ]
    },
    {
     "name": "stderr",
     "output_type": "stream",
     "text": [
      "Training:  30%|███       | 15/50 [00:08<00:20,  1.70it/s]"
     ]
    },
    {
     "name": "stdout",
     "output_type": "stream",
     "text": [
      "Epoch 14, NLL: 8.043159\n"
     ]
    },
    {
     "name": "stderr",
     "output_type": "stream",
     "text": [
      "Training:  32%|███▏      | 16/50 [00:08<00:19,  1.76it/s]"
     ]
    },
    {
     "name": "stdout",
     "output_type": "stream",
     "text": [
      "Epoch 15, NLL: 8.041436\n"
     ]
    },
    {
     "name": "stderr",
     "output_type": "stream",
     "text": [
      "Training:  34%|███▍      | 17/50 [00:09<00:18,  1.76it/s]"
     ]
    },
    {
     "name": "stdout",
     "output_type": "stream",
     "text": [
      "Epoch 16, NLL: 8.039620\n"
     ]
    },
    {
     "name": "stderr",
     "output_type": "stream",
     "text": [
      "Training:  36%|███▌      | 18/50 [00:09<00:18,  1.74it/s]"
     ]
    },
    {
     "name": "stdout",
     "output_type": "stream",
     "text": [
      "Epoch 17, NLL: 8.037720\n"
     ]
    },
    {
     "name": "stderr",
     "output_type": "stream",
     "text": [
      "Training:  38%|███▊      | 19/50 [00:10<00:17,  1.76it/s]"
     ]
    },
    {
     "name": "stdout",
     "output_type": "stream",
     "text": [
      "Epoch 18, NLL: 8.036220\n"
     ]
    },
    {
     "name": "stderr",
     "output_type": "stream",
     "text": [
      "Training:  40%|████      | 20/50 [00:10<00:16,  1.86it/s]"
     ]
    },
    {
     "name": "stdout",
     "output_type": "stream",
     "text": [
      "Epoch 19, NLL: 8.034663\n"
     ]
    },
    {
     "name": "stderr",
     "output_type": "stream",
     "text": [
      "Training:  42%|████▏     | 21/50 [00:11<00:15,  1.83it/s]"
     ]
    },
    {
     "name": "stdout",
     "output_type": "stream",
     "text": [
      "Epoch 20, NLL: 8.033229\n"
     ]
    },
    {
     "name": "stderr",
     "output_type": "stream",
     "text": [
      "Training:  44%|████▍     | 22/50 [00:12<00:15,  1.79it/s]"
     ]
    },
    {
     "name": "stdout",
     "output_type": "stream",
     "text": [
      "Epoch 21, NLL: 8.031668\n"
     ]
    },
    {
     "name": "stderr",
     "output_type": "stream",
     "text": [
      "Training:  46%|████▌     | 23/50 [00:12<00:15,  1.77it/s]"
     ]
    },
    {
     "name": "stdout",
     "output_type": "stream",
     "text": [
      "Epoch 22, NLL: 8.030123\n"
     ]
    },
    {
     "name": "stderr",
     "output_type": "stream",
     "text": [
      "Training:  48%|████▊     | 24/50 [00:13<00:14,  1.84it/s]"
     ]
    },
    {
     "name": "stdout",
     "output_type": "stream",
     "text": [
      "Epoch 23, NLL: 8.029003\n"
     ]
    },
    {
     "name": "stderr",
     "output_type": "stream",
     "text": [
      "Training:  50%|█████     | 25/50 [00:13<00:13,  1.81it/s]"
     ]
    },
    {
     "name": "stdout",
     "output_type": "stream",
     "text": [
      "Epoch 24, NLL: 8.028126\n"
     ]
    },
    {
     "name": "stderr",
     "output_type": "stream",
     "text": [
      "Training:  52%|█████▏    | 26/50 [00:14<00:13,  1.80it/s]"
     ]
    },
    {
     "name": "stdout",
     "output_type": "stream",
     "text": [
      "Epoch 25, NLL: 8.026812\n"
     ]
    },
    {
     "name": "stderr",
     "output_type": "stream",
     "text": [
      "Training:  54%|█████▍    | 27/50 [00:14<00:12,  1.81it/s]"
     ]
    },
    {
     "name": "stdout",
     "output_type": "stream",
     "text": [
      "Epoch 26, NLL: 8.026261\n"
     ]
    },
    {
     "name": "stderr",
     "output_type": "stream",
     "text": [
      "Training:  56%|█████▌    | 28/50 [00:15<00:12,  1.78it/s]"
     ]
    },
    {
     "name": "stdout",
     "output_type": "stream",
     "text": [
      "Epoch 27, NLL: 8.025916\n"
     ]
    },
    {
     "name": "stderr",
     "output_type": "stream",
     "text": [
      "Training:  58%|█████▊    | 29/50 [00:15<00:11,  1.79it/s]"
     ]
    },
    {
     "name": "stdout",
     "output_type": "stream",
     "text": [
      "Epoch 28, NLL: 8.025268\n"
     ]
    },
    {
     "name": "stderr",
     "output_type": "stream",
     "text": [
      "Training:  60%|██████    | 30/50 [00:16<00:11,  1.80it/s]"
     ]
    },
    {
     "name": "stdout",
     "output_type": "stream",
     "text": [
      "Epoch 29, NLL: 8.024363\n"
     ]
    },
    {
     "name": "stderr",
     "output_type": "stream",
     "text": [
      "Training:  62%|██████▏   | 31/50 [00:17<00:10,  1.75it/s]"
     ]
    },
    {
     "name": "stdout",
     "output_type": "stream",
     "text": [
      "Epoch 30, NLL: 8.023479\n"
     ]
    },
    {
     "name": "stderr",
     "output_type": "stream",
     "text": [
      "Training:  64%|██████▍   | 32/50 [00:17<00:10,  1.73it/s]"
     ]
    },
    {
     "name": "stdout",
     "output_type": "stream",
     "text": [
      "Epoch 31, NLL: 8.022804\n"
     ]
    },
    {
     "name": "stderr",
     "output_type": "stream",
     "text": [
      "Training:  66%|██████▌   | 33/50 [00:18<00:09,  1.82it/s]"
     ]
    },
    {
     "name": "stdout",
     "output_type": "stream",
     "text": [
      "Epoch 32, NLL: 8.022109\n"
     ]
    },
    {
     "name": "stderr",
     "output_type": "stream",
     "text": [
      "Training:  68%|██████▊   | 34/50 [00:18<00:08,  1.86it/s]"
     ]
    },
    {
     "name": "stdout",
     "output_type": "stream",
     "text": [
      "Epoch 33, NLL: 8.021685\n"
     ]
    },
    {
     "name": "stderr",
     "output_type": "stream",
     "text": [
      "Training:  70%|███████   | 35/50 [00:19<00:08,  1.84it/s]"
     ]
    },
    {
     "name": "stdout",
     "output_type": "stream",
     "text": [
      "Epoch 34, NLL: 8.020831\n"
     ]
    },
    {
     "name": "stderr",
     "output_type": "stream",
     "text": [
      "Training:  72%|███████▏  | 36/50 [00:19<00:07,  1.80it/s]"
     ]
    },
    {
     "name": "stdout",
     "output_type": "stream",
     "text": [
      "Epoch 35, NLL: 8.020669\n"
     ]
    },
    {
     "name": "stderr",
     "output_type": "stream",
     "text": [
      "Training:  74%|███████▍  | 37/50 [00:20<00:06,  1.88it/s]"
     ]
    },
    {
     "name": "stdout",
     "output_type": "stream",
     "text": [
      "Epoch 36, NLL: 8.020494\n"
     ]
    },
    {
     "name": "stderr",
     "output_type": "stream",
     "text": [
      "Training:  76%|███████▌  | 38/50 [00:20<00:06,  1.90it/s]"
     ]
    },
    {
     "name": "stdout",
     "output_type": "stream",
     "text": [
      "Epoch 37, NLL: 8.020409\n"
     ]
    },
    {
     "name": "stderr",
     "output_type": "stream",
     "text": [
      "Training:  78%|███████▊  | 39/50 [00:21<00:06,  1.82it/s]"
     ]
    },
    {
     "name": "stdout",
     "output_type": "stream",
     "text": [
      "Epoch 38, NLL: 8.020268\n"
     ]
    },
    {
     "name": "stderr",
     "output_type": "stream",
     "text": [
      "Training:  80%|████████  | 40/50 [00:21<00:05,  1.82it/s]"
     ]
    },
    {
     "name": "stdout",
     "output_type": "stream",
     "text": [
      "Epoch 39, NLL: 8.019480\n"
     ]
    },
    {
     "name": "stderr",
     "output_type": "stream",
     "text": [
      "Training:  82%|████████▏ | 41/50 [00:22<00:04,  1.84it/s]"
     ]
    },
    {
     "name": "stdout",
     "output_type": "stream",
     "text": [
      "Epoch 40, NLL: 8.018821\n"
     ]
    },
    {
     "name": "stderr",
     "output_type": "stream",
     "text": [
      "Training:  84%|████████▍ | 42/50 [00:23<00:04,  1.83it/s]"
     ]
    },
    {
     "name": "stdout",
     "output_type": "stream",
     "text": [
      "Epoch 41, NLL: 8.018290\n"
     ]
    },
    {
     "name": "stderr",
     "output_type": "stream",
     "text": [
      "Training:  86%|████████▌ | 43/50 [00:23<00:03,  1.87it/s]"
     ]
    },
    {
     "name": "stdout",
     "output_type": "stream",
     "text": [
      "Epoch 42, NLL: 8.018066\n"
     ]
    },
    {
     "name": "stderr",
     "output_type": "stream",
     "text": [
      "Training:  88%|████████▊ | 44/50 [00:24<00:03,  1.84it/s]"
     ]
    },
    {
     "name": "stdout",
     "output_type": "stream",
     "text": [
      "Epoch 43, NLL: 8.017504\n"
     ]
    },
    {
     "name": "stderr",
     "output_type": "stream",
     "text": [
      "Training:  88%|████████▊ | 44/50 [00:24<00:03,  1.78it/s]"
     ]
    },
    {
     "name": "stdout",
     "output_type": "stream",
     "text": [
      "Epoch 44, NLL: 8.017513\n",
      "Converged at epoch 44 (ΔNLL < 1e-05)\n"
     ]
    },
    {
     "name": "stderr",
     "output_type": "stream",
     "text": [
      "\n"
     ]
    },
    {
     "data": {
      "image/png": "[encoded data removed]",
      "text/plain": [
       "<Figure size 640x480 with 1 Axes>"
      ]
     },
     "metadata": {},
     "output_type": "display_data"
    },
    {
     "name": "stdout",
     "output_type": "stream",
     "text": [
      "0.9999061256955378\n"
     ]
    }
   ],
   "source": [
    "\n",
    "torch.set_num_threads(64)\n",
    "import sys\n",
    "import importlib\n",
    "import os\n",
    "sys.path.append(\"../\")\n",
    "\n",
    "importlib.reload(src.autoencoder)\n",
    "from src.autoencoder import EncoderExpressed, DecoderExpressed, AutoencoderExpressed\n",
    "\n",
    "latent_dimension = 64\n",
    "\n",
    "W_e, W_d = pca_init(expressed_genes.T, latent_dimension)\n",
    "\n",
    "\n",
    "encoder_64 = EncoderExpressed(expressed_genes.shape[0], W_e.T, latent_dimension)\n",
    "\n",
    "decoder_64 = DecoderExpressed(W_d.T, bias, expressed_genes.shape[0], latent_dimension)\n",
    "\n",
    "\n",
    "\n",
    "autoencoder_64 = AutoencoderExpressed(encoder=encoder_64, decoder=decoder_64, theta=theta, size_factors=size_factors)\n",
    "\n",
    "X = torch.tensor(x.T, dtype=torch.float32)\n",
    "K = torch.tensor(expressed_genes.T, dtype=torch.float32)\n",
    "\n",
    "loss = autoencoder_64.fit(X, K, n_epochs=50)\n",
    "\n",
    "\n",
    "loss_values = [l.detach().cpu().item() for l in loss]\n",
    "\n",
    "plt.plot(loss_values)\n",
    "plt.xlabel(\"Epoch\")\n",
    "plt.ylabel(\"Negative Log-Likelihood\")\n",
    "plt.title(\"Training Progress\")\n",
    "plt.show()\n",
    "\n",
    "importlib.reload(src.getDimension)\n",
    "from src.getDimension import compute_auc_pr, compute_pvalues\n",
    "\n",
    "mu_trained_64 = autoencoder_64.get_mu(autoencoder_64.forward(outliers)).detach().cpu().numpy().T\n",
    "\n",
    "theta_trained_64 = autoencoder_64.get_theta().detach().cpu().numpy()\n",
    "\n",
    "\n",
    "pvals = compute_pvalues(outlier_matrix, mu_trained_64, theta_trained_64)\n",
    "\n",
    "auc_64 = compute_auc_pr(mask.flatten(), pvals.flatten())\n",
    "\n",
    "print(auc_64)"
   ]
  },
  {
   "cell_type": "code",
   "execution_count": 44,
   "id": "59127144",
   "metadata": {},
   "outputs": [
    {
     "ename": "RuntimeError",
     "evalue": "mat1 and mat2 shapes cannot be multiplied (126x7307 and 6261x16)",
     "output_type": "error",
     "traceback": [
      "\u001b[31m---------------------------------------------------------------------------\u001b[39m",
      "\u001b[31mRuntimeError\u001b[39m                              Traceback (most recent call last)",
      "\u001b[36mCell\u001b[39m\u001b[36m \u001b[39m\u001b[32mIn[44]\u001b[39m\u001b[32m, line 19\u001b[39m\n\u001b[32m     16\u001b[39m size_factors_sick = size_factor_expressed(expressed_genes_sick)\n\u001b[32m     17\u001b[39m theta = robust_method_of_moments_theta(expressed_genes_sick)\n\u001b[32m---> \u001b[39m\u001b[32m19\u001b[39m Z = \u001b[43mautoencoder_16\u001b[49m\u001b[43m.\u001b[49m\u001b[43mget_latent\u001b[49m\u001b[43m(\u001b[49m\u001b[43mtorch\u001b[49m\u001b[43m.\u001b[49m\u001b[43mtensor\u001b[49m\u001b[43m(\u001b[49m\u001b[43mexpressed_genes_sick\u001b[49m\u001b[43m.\u001b[49m\u001b[43mT\u001b[49m\u001b[43m,\u001b[49m\u001b[43m \u001b[49m\u001b[43mdtype\u001b[49m\u001b[43m=\u001b[49m\u001b[43mtorch\u001b[49m\u001b[43m.\u001b[49m\u001b[43mfloat32\u001b[49m\u001b[43m)\u001b[49m\u001b[43m)\u001b[49m.detach().cpu().numpy()\n\u001b[32m     20\u001b[39m \u001b[38;5;28mprint\u001b[39m(Z.shape)\n",
      "\u001b[36mFile \u001b[39m\u001b[32m~/Outliers_detection/notebooks/../src/autoencoder.py:69\u001b[39m, in \u001b[36mAutoencoderExpressed.get_latent\u001b[39m\u001b[34m(self, x)\u001b[39m\n\u001b[32m     68\u001b[39m \u001b[38;5;28;01mdef\u001b[39;00m\u001b[38;5;250m \u001b[39m\u001b[34mget_latent\u001b[39m(\u001b[38;5;28mself\u001b[39m, x):\n\u001b[32m---> \u001b[39m\u001b[32m69\u001b[39m         \u001b[38;5;28;01mreturn\u001b[39;00m \u001b[38;5;28;43mself\u001b[39;49m\u001b[43m.\u001b[49m\u001b[43mencoder\u001b[49m\u001b[43m(\u001b[49m\u001b[43mx\u001b[49m\u001b[43m)\u001b[49m\n",
      "\u001b[36mFile \u001b[39m\u001b[32m~/Outliers_detection/.venv/lib/python3.12/site-packages/torch/nn/modules/module.py:1751\u001b[39m, in \u001b[36mModule._wrapped_call_impl\u001b[39m\u001b[34m(self, *args, **kwargs)\u001b[39m\n\u001b[32m   1749\u001b[39m     \u001b[38;5;28;01mreturn\u001b[39;00m \u001b[38;5;28mself\u001b[39m._compiled_call_impl(*args, **kwargs)  \u001b[38;5;66;03m# type: ignore[misc]\u001b[39;00m\n\u001b[32m   1750\u001b[39m \u001b[38;5;28;01melse\u001b[39;00m:\n\u001b[32m-> \u001b[39m\u001b[32m1751\u001b[39m     \u001b[38;5;28;01mreturn\u001b[39;00m \u001b[38;5;28;43mself\u001b[39;49m\u001b[43m.\u001b[49m\u001b[43m_call_impl\u001b[49m\u001b[43m(\u001b[49m\u001b[43m*\u001b[49m\u001b[43margs\u001b[49m\u001b[43m,\u001b[49m\u001b[43m \u001b[49m\u001b[43m*\u001b[49m\u001b[43m*\u001b[49m\u001b[43mkwargs\u001b[49m\u001b[43m)\u001b[49m\n",
      "\u001b[36mFile \u001b[39m\u001b[32m~/Outliers_detection/.venv/lib/python3.12/site-packages/torch/nn/modules/module.py:1762\u001b[39m, in \u001b[36mModule._call_impl\u001b[39m\u001b[34m(self, *args, **kwargs)\u001b[39m\n\u001b[32m   1757\u001b[39m \u001b[38;5;66;03m# If we don't have any hooks, we want to skip the rest of the logic in\u001b[39;00m\n\u001b[32m   1758\u001b[39m \u001b[38;5;66;03m# this function, and just call forward.\u001b[39;00m\n\u001b[32m   1759\u001b[39m \u001b[38;5;28;01mif\u001b[39;00m \u001b[38;5;129;01mnot\u001b[39;00m (\u001b[38;5;28mself\u001b[39m._backward_hooks \u001b[38;5;129;01mor\u001b[39;00m \u001b[38;5;28mself\u001b[39m._backward_pre_hooks \u001b[38;5;129;01mor\u001b[39;00m \u001b[38;5;28mself\u001b[39m._forward_hooks \u001b[38;5;129;01mor\u001b[39;00m \u001b[38;5;28mself\u001b[39m._forward_pre_hooks\n\u001b[32m   1760\u001b[39m         \u001b[38;5;129;01mor\u001b[39;00m _global_backward_pre_hooks \u001b[38;5;129;01mor\u001b[39;00m _global_backward_hooks\n\u001b[32m   1761\u001b[39m         \u001b[38;5;129;01mor\u001b[39;00m _global_forward_hooks \u001b[38;5;129;01mor\u001b[39;00m _global_forward_pre_hooks):\n\u001b[32m-> \u001b[39m\u001b[32m1762\u001b[39m     \u001b[38;5;28;01mreturn\u001b[39;00m \u001b[43mforward_call\u001b[49m\u001b[43m(\u001b[49m\u001b[43m*\u001b[49m\u001b[43margs\u001b[49m\u001b[43m,\u001b[49m\u001b[43m \u001b[49m\u001b[43m*\u001b[49m\u001b[43m*\u001b[49m\u001b[43mkwargs\u001b[49m\u001b[43m)\u001b[49m\n\u001b[32m   1764\u001b[39m result = \u001b[38;5;28;01mNone\u001b[39;00m\n\u001b[32m   1765\u001b[39m called_always_called_hooks = \u001b[38;5;28mset\u001b[39m()\n",
      "\u001b[36mFile \u001b[39m\u001b[32m~/Outliers_detection/notebooks/../src/autoencoder.py:23\u001b[39m, in \u001b[36mEncoderExpressed.forward\u001b[39m\u001b[34m(self, x)\u001b[39m\n\u001b[32m     22\u001b[39m \u001b[38;5;28;01mdef\u001b[39;00m\u001b[38;5;250m \u001b[39m\u001b[34mforward\u001b[39m(\u001b[38;5;28mself\u001b[39m, x):\n\u001b[32m---> \u001b[39m\u001b[32m23\u001b[39m     \u001b[38;5;28;01mreturn\u001b[39;00m \u001b[38;5;28;43mself\u001b[39;49m\u001b[43m.\u001b[49m\u001b[43mencoder\u001b[49m\u001b[43m(\u001b[49m\u001b[43mx\u001b[49m\u001b[43m)\u001b[49m\n",
      "\u001b[36mFile \u001b[39m\u001b[32m~/Outliers_detection/.venv/lib/python3.12/site-packages/torch/nn/modules/module.py:1751\u001b[39m, in \u001b[36mModule._wrapped_call_impl\u001b[39m\u001b[34m(self, *args, **kwargs)\u001b[39m\n\u001b[32m   1749\u001b[39m     \u001b[38;5;28;01mreturn\u001b[39;00m \u001b[38;5;28mself\u001b[39m._compiled_call_impl(*args, **kwargs)  \u001b[38;5;66;03m# type: ignore[misc]\u001b[39;00m\n\u001b[32m   1750\u001b[39m \u001b[38;5;28;01melse\u001b[39;00m:\n\u001b[32m-> \u001b[39m\u001b[32m1751\u001b[39m     \u001b[38;5;28;01mreturn\u001b[39;00m \u001b[38;5;28;43mself\u001b[39;49m\u001b[43m.\u001b[49m\u001b[43m_call_impl\u001b[49m\u001b[43m(\u001b[49m\u001b[43m*\u001b[49m\u001b[43margs\u001b[49m\u001b[43m,\u001b[49m\u001b[43m \u001b[49m\u001b[43m*\u001b[49m\u001b[43m*\u001b[49m\u001b[43mkwargs\u001b[49m\u001b[43m)\u001b[49m\n",
      "\u001b[36mFile \u001b[39m\u001b[32m~/Outliers_detection/.venv/lib/python3.12/site-packages/torch/nn/modules/module.py:1762\u001b[39m, in \u001b[36mModule._call_impl\u001b[39m\u001b[34m(self, *args, **kwargs)\u001b[39m\n\u001b[32m   1757\u001b[39m \u001b[38;5;66;03m# If we don't have any hooks, we want to skip the rest of the logic in\u001b[39;00m\n\u001b[32m   1758\u001b[39m \u001b[38;5;66;03m# this function, and just call forward.\u001b[39;00m\n\u001b[32m   1759\u001b[39m \u001b[38;5;28;01mif\u001b[39;00m \u001b[38;5;129;01mnot\u001b[39;00m (\u001b[38;5;28mself\u001b[39m._backward_hooks \u001b[38;5;129;01mor\u001b[39;00m \u001b[38;5;28mself\u001b[39m._backward_pre_hooks \u001b[38;5;129;01mor\u001b[39;00m \u001b[38;5;28mself\u001b[39m._forward_hooks \u001b[38;5;129;01mor\u001b[39;00m \u001b[38;5;28mself\u001b[39m._forward_pre_hooks\n\u001b[32m   1760\u001b[39m         \u001b[38;5;129;01mor\u001b[39;00m _global_backward_pre_hooks \u001b[38;5;129;01mor\u001b[39;00m _global_backward_hooks\n\u001b[32m   1761\u001b[39m         \u001b[38;5;129;01mor\u001b[39;00m _global_forward_hooks \u001b[38;5;129;01mor\u001b[39;00m _global_forward_pre_hooks):\n\u001b[32m-> \u001b[39m\u001b[32m1762\u001b[39m     \u001b[38;5;28;01mreturn\u001b[39;00m \u001b[43mforward_call\u001b[49m\u001b[43m(\u001b[49m\u001b[43m*\u001b[49m\u001b[43margs\u001b[49m\u001b[43m,\u001b[49m\u001b[43m \u001b[49m\u001b[43m*\u001b[49m\u001b[43m*\u001b[49m\u001b[43mkwargs\u001b[49m\u001b[43m)\u001b[49m\n\u001b[32m   1764\u001b[39m result = \u001b[38;5;28;01mNone\u001b[39;00m\n\u001b[32m   1765\u001b[39m called_always_called_hooks = \u001b[38;5;28mset\u001b[39m()\n",
      "\u001b[36mFile \u001b[39m\u001b[32m~/Outliers_detection/.venv/lib/python3.12/site-packages/torch/nn/modules/linear.py:125\u001b[39m, in \u001b[36mLinear.forward\u001b[39m\u001b[34m(self, input)\u001b[39m\n\u001b[32m    124\u001b[39m \u001b[38;5;28;01mdef\u001b[39;00m\u001b[38;5;250m \u001b[39m\u001b[34mforward\u001b[39m(\u001b[38;5;28mself\u001b[39m, \u001b[38;5;28minput\u001b[39m: Tensor) -> Tensor:\n\u001b[32m--> \u001b[39m\u001b[32m125\u001b[39m     \u001b[38;5;28;01mreturn\u001b[39;00m \u001b[43mF\u001b[49m\u001b[43m.\u001b[49m\u001b[43mlinear\u001b[49m\u001b[43m(\u001b[49m\u001b[38;5;28;43minput\u001b[39;49m\u001b[43m,\u001b[49m\u001b[43m \u001b[49m\u001b[38;5;28;43mself\u001b[39;49m\u001b[43m.\u001b[49m\u001b[43mweight\u001b[49m\u001b[43m,\u001b[49m\u001b[43m \u001b[49m\u001b[38;5;28;43mself\u001b[39;49m\u001b[43m.\u001b[49m\u001b[43mbias\u001b[49m\u001b[43m)\u001b[49m\n",
      "\u001b[31mRuntimeError\u001b[39m: mat1 and mat2 shapes cannot be multiplied (126x7307 and 6261x16)"
     ]
    }
   ],
   "source": [
    "import sys\n",
    "import importlib\n",
    "import os\n",
    "\n",
    "import src.sizeFactor\n",
    "import src.thetaMethodOfMoments\n",
    "sys.path.append(\"../\")\n",
    "\n",
    "importlib.reload(src.sizeFactor)\n",
    "from src.sizeFactor import size_factor_expressed\n",
    "importlib.reload(src.thetaMethodOfMoments)\n",
    "from src.thetaMethodOfMoments import robust_method_of_moments_theta \n",
    "importlib.reload(src.autoencoder)\n",
    "from src.autoencoder import AutoencoderExpressed\n",
    "\n",
    "size_factors_sick = size_factor_expressed(expressed_genes_sick)\n",
    "theta = robust_method_of_moments_theta(expressed_genes_sick)\n",
    "\n",
    "Z = autoencoder_16.get_latent(torch.tensor(expressed_genes_sick.T, dtype=torch.float32)).detach().cpu().numpy()\n",
    "print(Z.shape)"
   ]
  }
 ],
 "metadata": {
  "kernelspec": {
   "display_name": ".venv",
   "language": "python",
   "name": "python3"
  },
  "language_info": {
   "codemirror_mode": {
    "name": "ipython",
    "version": 3
   },
   "file_extension": ".py",
   "mimetype": "text/x-python",
   "name": "python",
   "nbconvert_exporter": "python",
   "pygments_lexer": "ipython3",
   "version": "3.12.3"
  }
 },
 "nbformat": 4,
 "nbformat_minor": 5
}
